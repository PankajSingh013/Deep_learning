{
  "nbformat": 4,
  "nbformat_minor": 0,
  "metadata": {
    "colab": {
      "provenance": [],
      "authorship_tag": "ABX9TyMFRdng3gXpUsL3uilSIYoL",
      "include_colab_link": true
    },
    "kernelspec": {
      "name": "python3",
      "display_name": "Python 3"
    },
    "language_info": {
      "name": "python"
    }
  },
  "cells": [
    {
      "cell_type": "markdown",
      "metadata": {
        "id": "view-in-github",
        "colab_type": "text"
      },
      "source": [
        "<a href=\"https://colab.research.google.com/github/PankajSingh013/Deep_learning/blob/main/Acivation_function_and_loss_or_cost_funtions_implemention.ipynb\" target=\"_parent\"><img src=\"https://colab.research.google.com/assets/colab-badge.svg\" alt=\"Open In Colab\"/></a>"
      ]
    },
    {
      "cell_type": "code",
      "execution_count": null,
      "metadata": {
        "id": "2fOrzCzw96aP"
      },
      "outputs": [],
      "source": []
    },
    {
      "cell_type": "markdown",
      "source": [
        "#most used activation functions are \n",
        "1. Sigmoid\n",
        "2. Tanh\n",
        "3. ReLu\n",
        "4. Leaky ReLu\n",
        "\n",
        "reLu and Leaky relu are used basically to reduce the impact of vanishing/exploding gradients problem ( when deratives becomes too sall (close to 0) or too large)"
      ],
      "metadata": {
        "id": "zAhVaSc--U2w"
      }
    },
    {
      "cell_type": "code",
      "source": [
        "import math\n",
        "def sigmoid(x):\n",
        "    return (1/(1+math.exp(-x)))\n"
      ],
      "metadata": {
        "id": "5_Fw2e8b-c-3"
      },
      "execution_count": 1,
      "outputs": []
    },
    {
      "cell_type": "code",
      "source": [
        "sigmoid(100), sigmoid(10), sigmoid(-5)"
      ],
      "metadata": {
        "colab": {
          "base_uri": "https://localhost:8080/"
        },
        "id": "26pIjN0p-oYS",
        "outputId": "002b5afa-c91b-46eb-ef54-d0a39f23687f"
      },
      "execution_count": 5,
      "outputs": [
        {
          "output_type": "execute_result",
          "data": {
            "text/plain": [
              "(1.0, 0.9999546021312976, 0.0066928509242848554)"
            ]
          },
          "metadata": {},
          "execution_count": 5
        }
      ]
    },
    {
      "cell_type": "code",
      "source": [
        "def tanh(x):\n",
        "    return ((math.exp(x) - math.exp(-x))/(math.exp(x) + math.exp(-x)))"
      ],
      "metadata": {
        "id": "wGcEYZI4-tWX"
      },
      "execution_count": 6,
      "outputs": []
    },
    {
      "cell_type": "code",
      "source": [
        "tanh(200), tanh(1), tanh(-100)"
      ],
      "metadata": {
        "colab": {
          "base_uri": "https://localhost:8080/"
        },
        "id": "-TdMqUKb_BC6",
        "outputId": "c14563aa-1e29-46ba-bafb-04820a3045be"
      },
      "execution_count": 9,
      "outputs": [
        {
          "output_type": "execute_result",
          "data": {
            "text/plain": [
              "(1.0, 0.7615941559557649, -1.0)"
            ]
          },
          "metadata": {},
          "execution_count": 9
        }
      ]
    },
    {
      "cell_type": "code",
      "source": [
        "def relu(x):\n",
        "    return max(0,x)\n"
      ],
      "metadata": {
        "id": "M19U9WmO_BGc"
      },
      "execution_count": 10,
      "outputs": []
    },
    {
      "cell_type": "code",
      "source": [
        "relu (100), relu (-100)"
      ],
      "metadata": {
        "colab": {
          "base_uri": "https://localhost:8080/"
        },
        "id": "HtqMPj5Y_BKA",
        "outputId": "f9be264f-692e-4518-ca03-c4db7bbc54b6"
      },
      "execution_count": 12,
      "outputs": [
        {
          "output_type": "execute_result",
          "data": {
            "text/plain": [
              "(100, 0)"
            ]
          },
          "metadata": {},
          "execution_count": 12
        }
      ]
    },
    {
      "cell_type": "code",
      "source": [
        "def leaky_relu(x):\n",
        "    return (max(0.1*x,x))\n"
      ],
      "metadata": {
        "id": "xISl2IA9_N8f"
      },
      "execution_count": 14,
      "outputs": []
    },
    {
      "cell_type": "code",
      "source": [
        "leaky_relu(100),leaky_relu(-10)"
      ],
      "metadata": {
        "colab": {
          "base_uri": "https://localhost:8080/"
        },
        "id": "eSoWT-Lw_Wrg",
        "outputId": "a07500c3-bf23-4879-ce26-85a4e20b7a8a"
      },
      "execution_count": 15,
      "outputs": [
        {
          "output_type": "execute_result",
          "data": {
            "text/plain": [
              "(100, -1.0)"
            ]
          },
          "metadata": {},
          "execution_count": 15
        }
      ]
    },
    {
      "cell_type": "code",
      "source": [],
      "metadata": {
        "id": "EHg1clTg_XMo"
      },
      "execution_count": null,
      "outputs": []
    },
    {
      "cell_type": "markdown",
      "source": [
        "**Cost functions implementations**\n"
      ],
      "metadata": {
        "id": "bqi9siPW_gey"
      }
    },
    {
      "cell_type": "code",
      "source": [
        "#. log loss or binary cross emtropy\n",
        "    # -mean(yi*log(yi_hat)+(1-yi)*log(1-yi_hat))"
      ],
      "metadata": {
        "id": "B4rrHc0P_XPf"
      },
      "execution_count": null,
      "outputs": []
    },
    {
      "cell_type": "code",
      "source": [
        "import numpy as np\n",
        "y = np.array([1,0,1,1,0])\n",
        "y_predicted = np.array([0.2,0.5,1,1,0])"
      ],
      "metadata": {
        "id": "PubH63i5ASUw"
      },
      "execution_count": 19,
      "outputs": []
    },
    {
      "cell_type": "code",
      "source": [
        "def logloss(y,y_predicted):\n",
        "   epsilon = 1e-15 \n",
        "   ypr = [max(epsilon,i)for i in y_predicted]\n",
        "   ypr = np.array([min(i,1-epsilon) for i in ypr])\n",
        "   #print(ypr)\n",
        "   logloss= -np.mean(y*np.log(ypr) + (1-y)*np.log(1-ypr))\n",
        "   return logloss"
      ],
      "metadata": {
        "id": "b3SPQq96AoNH"
      },
      "execution_count": 26,
      "outputs": []
    },
    {
      "cell_type": "code",
      "source": [
        "logloss(y,y_predicted)"
      ],
      "metadata": {
        "colab": {
          "base_uri": "https://localhost:8080/"
        },
        "id": "rzvVjALhBtbS",
        "outputId": "ad3d2234-2a0c-4ea3-d6e9-229c0d698187"
      },
      "execution_count": 27,
      "outputs": [
        {
          "output_type": "execute_result",
          "data": {
            "text/plain": [
              "0.4605170185988096"
            ]
          },
          "metadata": {},
          "execution_count": 27
        }
      ]
    },
    {
      "cell_type": "code",
      "source": [
        "#Mean absolute error\n",
        "#mean(yi-y_hat)"
      ],
      "metadata": {
        "id": "YCqpWQt_Bv7g"
      },
      "execution_count": null,
      "outputs": []
    },
    {
      "cell_type": "code",
      "source": [
        "y = np.array([1,0,1,1,0])\n",
        "y_predicted = np.array([0.2,0.5,1,1,0])\n",
        "\n",
        "def MAE(y,y_hat):\n",
        "    error=0\n",
        "    for i,j in zip(y,y_hat):\n",
        "        error+=abs(i-j)\n",
        "    mae = error/len(y)\n",
        "    return mae"
      ],
      "metadata": {
        "id": "siMmuZNtDQ2d"
      },
      "execution_count": 31,
      "outputs": []
    },
    {
      "cell_type": "code",
      "source": [
        "MAE(y,y_predicted)"
      ],
      "metadata": {
        "colab": {
          "base_uri": "https://localhost:8080/"
        },
        "id": "hwhufiaMDQ5P",
        "outputId": "ceabf073-9555-4508-a3a0-33e3ac27d89c"
      },
      "execution_count": 32,
      "outputs": [
        {
          "output_type": "execute_result",
          "data": {
            "text/plain": [
              "0.26"
            ]
          },
          "metadata": {},
          "execution_count": 32
        }
      ]
    }
  ]
}